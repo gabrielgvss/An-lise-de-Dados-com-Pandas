{
 "cells": [
  {
   "cell_type": "markdown",
   "id": "5e7a11ff",
   "metadata": {},
   "source": [
    "# TESTE DATAFRAMES FOOD DELIVERY\n",
    "\n",
    "Link do dataset: https://www.kaggle.com/datasets/gauravmalik26/food-delivery-dataset/data?select=train.csv\n",
    "\n",
    "Perguntas a responder a partir da análise:\n",
    "1. Qual o número total de entregas na base de dados?\n",
    "\n",
    "2. Qual o número total de entregadores cadastrados na base de dados?\n",
    "\n",
    "3. Qual a idade do entregador mais velho? E do mais novo?\n",
    "\n",
    "4. Qual o ID do entregador com a maior idade? E o ID do entregador com a menor idade?\n",
    "\n",
    "5. Quais os nomes das condições climáticas presentes na base de dados?\n",
    "\n",
    "6. Quantas entregas foram realizadas sobre condição climática de tempestade de areia?\n",
    "\n",
    "7. Quais eram as condicões climáticas da data mais recente de entrega?\n",
    "\n",
    "8. Quantos tipos de densidade de trânsito existem na base de dados? Quais os nomes delas?\n",
    "\n",
    "9. Quantas entregas foram feitas em cada condição climática?\n",
    "\n",
    "10. Quantos entregadores únicos fizeram entregas em cada condição climática?\n",
    "\n",
    "11. Quantas entregas foram feitas em cada tipo de densidade de trânsito?\n",
    "\n",
    "12. Quantos entregadores únicos fizeram entregas em cada tipo de densidade de trânsito?\n",
    "\n",
    "13. Quantas cidades únicas existem na base? Quais são os seus nomes?\n",
    "\n",
    "14. Quantos tipos de veículos únicos existem na base?\n",
    "\n",
    "15. Qual o tipo de veículo que mais vez entregas com a condição de trânsito pesado? ( High )\n",
    "\n",
    "16. Qual o tipo de pedido mais feito durante condições climáticas de tempestade de areia?\n",
    "\n",
    "17. Qual a cidade com o maior número de pedidos de Bebidas (Drinks) feito em Scooter?\n",
    "\n",
    "18. Qual o nome da cidade com o (os) entregador mais velho? E o nome da cidade com o (os) entregadores mais novos?\n",
    "\n",
    "19. Quantas entregas foram feitas durante o Festival?\n",
    "\n",
    "20. Quantas cidades únicas tiveram entregas feitas durante o Festival?\n",
    "\n",
    "21. Quantas entregas foram feitas durante o Festival na cidade chamada Urban (\"Urban\") \n"
   ]
  },
  {
   "cell_type": "markdown",
   "id": "9204afcd",
   "metadata": {},
   "source": [
    "## 0. INSPEÇÃO INICIAL (LIMPEZA E TRATAMENTO)"
   ]
  },
  {
   "cell_type": "code",
   "execution_count": 1,
   "id": "cce237a5",
   "metadata": {},
   "outputs": [],
   "source": [
    "# IMPORTANDO BIBLIOTECA PANDAS PARA ANÁLISE DE DADOS\n",
    "import pandas as pd\n",
    "import re"
   ]
  },
  {
   "cell_type": "code",
   "execution_count": 2,
   "id": "ba2bfe46",
   "metadata": {},
   "outputs": [
    {
     "data": {
      "text/html": [
       "<div>\n",
       "<style scoped>\n",
       "    .dataframe tbody tr th:only-of-type {\n",
       "        vertical-align: middle;\n",
       "    }\n",
       "\n",
       "    .dataframe tbody tr th {\n",
       "        vertical-align: top;\n",
       "    }\n",
       "\n",
       "    .dataframe thead th {\n",
       "        text-align: right;\n",
       "    }\n",
       "</style>\n",
       "<table border=\"1\" class=\"dataframe\">\n",
       "  <thead>\n",
       "    <tr style=\"text-align: right;\">\n",
       "      <th></th>\n",
       "      <th>ID</th>\n",
       "      <th>Delivery_person_ID</th>\n",
       "      <th>Delivery_person_Age</th>\n",
       "      <th>Delivery_person_Ratings</th>\n",
       "      <th>Restaurant_latitude</th>\n",
       "      <th>Restaurant_longitude</th>\n",
       "      <th>Delivery_location_latitude</th>\n",
       "      <th>Delivery_location_longitude</th>\n",
       "      <th>Order_Date</th>\n",
       "      <th>Time_Orderd</th>\n",
       "      <th>Time_Order_picked</th>\n",
       "      <th>Weatherconditions</th>\n",
       "      <th>Road_traffic_density</th>\n",
       "      <th>Vehicle_condition</th>\n",
       "      <th>Type_of_order</th>\n",
       "      <th>Type_of_vehicle</th>\n",
       "      <th>multiple_deliveries</th>\n",
       "      <th>Festival</th>\n",
       "      <th>City</th>\n",
       "      <th>Time_taken(min)</th>\n",
       "    </tr>\n",
       "  </thead>\n",
       "  <tbody>\n",
       "    <tr>\n",
       "      <th>0</th>\n",
       "      <td>0x4607</td>\n",
       "      <td>INDORES13DEL02</td>\n",
       "      <td>37</td>\n",
       "      <td>4.9</td>\n",
       "      <td>22.745049</td>\n",
       "      <td>75.892471</td>\n",
       "      <td>22.765049</td>\n",
       "      <td>75.912471</td>\n",
       "      <td>19-03-2022</td>\n",
       "      <td>11:30:00</td>\n",
       "      <td>11:45:00</td>\n",
       "      <td>conditions Sunny</td>\n",
       "      <td>High</td>\n",
       "      <td>2</td>\n",
       "      <td>Snack</td>\n",
       "      <td>motorcycle</td>\n",
       "      <td>0</td>\n",
       "      <td>No</td>\n",
       "      <td>Urban</td>\n",
       "      <td>(min) 24</td>\n",
       "    </tr>\n",
       "    <tr>\n",
       "      <th>1</th>\n",
       "      <td>0xb379</td>\n",
       "      <td>BANGRES18DEL02</td>\n",
       "      <td>34</td>\n",
       "      <td>4.5</td>\n",
       "      <td>12.913041</td>\n",
       "      <td>77.683237</td>\n",
       "      <td>13.043041</td>\n",
       "      <td>77.813237</td>\n",
       "      <td>25-03-2022</td>\n",
       "      <td>19:45:00</td>\n",
       "      <td>19:50:00</td>\n",
       "      <td>conditions Stormy</td>\n",
       "      <td>Jam</td>\n",
       "      <td>2</td>\n",
       "      <td>Snack</td>\n",
       "      <td>scooter</td>\n",
       "      <td>1</td>\n",
       "      <td>No</td>\n",
       "      <td>Metropolitian</td>\n",
       "      <td>(min) 33</td>\n",
       "    </tr>\n",
       "    <tr>\n",
       "      <th>2</th>\n",
       "      <td>0x5d6d</td>\n",
       "      <td>BANGRES19DEL01</td>\n",
       "      <td>23</td>\n",
       "      <td>4.4</td>\n",
       "      <td>12.914264</td>\n",
       "      <td>77.678400</td>\n",
       "      <td>12.924264</td>\n",
       "      <td>77.688400</td>\n",
       "      <td>19-03-2022</td>\n",
       "      <td>08:30:00</td>\n",
       "      <td>08:45:00</td>\n",
       "      <td>conditions Sandstorms</td>\n",
       "      <td>Low</td>\n",
       "      <td>0</td>\n",
       "      <td>Drinks</td>\n",
       "      <td>motorcycle</td>\n",
       "      <td>1</td>\n",
       "      <td>No</td>\n",
       "      <td>Urban</td>\n",
       "      <td>(min) 26</td>\n",
       "    </tr>\n",
       "    <tr>\n",
       "      <th>3</th>\n",
       "      <td>0x7a6a</td>\n",
       "      <td>COIMBRES13DEL02</td>\n",
       "      <td>38</td>\n",
       "      <td>4.7</td>\n",
       "      <td>11.003669</td>\n",
       "      <td>76.976494</td>\n",
       "      <td>11.053669</td>\n",
       "      <td>77.026494</td>\n",
       "      <td>05-04-2022</td>\n",
       "      <td>18:00:00</td>\n",
       "      <td>18:10:00</td>\n",
       "      <td>conditions Sunny</td>\n",
       "      <td>Medium</td>\n",
       "      <td>0</td>\n",
       "      <td>Buffet</td>\n",
       "      <td>motorcycle</td>\n",
       "      <td>1</td>\n",
       "      <td>No</td>\n",
       "      <td>Metropolitian</td>\n",
       "      <td>(min) 21</td>\n",
       "    </tr>\n",
       "    <tr>\n",
       "      <th>4</th>\n",
       "      <td>0x70a2</td>\n",
       "      <td>CHENRES12DEL01</td>\n",
       "      <td>32</td>\n",
       "      <td>4.6</td>\n",
       "      <td>12.972793</td>\n",
       "      <td>80.249982</td>\n",
       "      <td>13.012793</td>\n",
       "      <td>80.289982</td>\n",
       "      <td>26-03-2022</td>\n",
       "      <td>13:30:00</td>\n",
       "      <td>13:45:00</td>\n",
       "      <td>conditions Cloudy</td>\n",
       "      <td>High</td>\n",
       "      <td>1</td>\n",
       "      <td>Snack</td>\n",
       "      <td>scooter</td>\n",
       "      <td>1</td>\n",
       "      <td>No</td>\n",
       "      <td>Metropolitian</td>\n",
       "      <td>(min) 30</td>\n",
       "    </tr>\n",
       "  </tbody>\n",
       "</table>\n",
       "</div>"
      ],
      "text/plain": [
       "        ID Delivery_person_ID Delivery_person_Age Delivery_person_Ratings  \\\n",
       "0  0x4607     INDORES13DEL02                   37                     4.9   \n",
       "1  0xb379     BANGRES18DEL02                   34                     4.5   \n",
       "2  0x5d6d     BANGRES19DEL01                   23                     4.4   \n",
       "3  0x7a6a    COIMBRES13DEL02                   38                     4.7   \n",
       "4  0x70a2     CHENRES12DEL01                   32                     4.6   \n",
       "\n",
       "   Restaurant_latitude  Restaurant_longitude  Delivery_location_latitude  \\\n",
       "0            22.745049             75.892471                   22.765049   \n",
       "1            12.913041             77.683237                   13.043041   \n",
       "2            12.914264             77.678400                   12.924264   \n",
       "3            11.003669             76.976494                   11.053669   \n",
       "4            12.972793             80.249982                   13.012793   \n",
       "\n",
       "   Delivery_location_longitude  Order_Date Time_Orderd Time_Order_picked  \\\n",
       "0                    75.912471  19-03-2022    11:30:00          11:45:00   \n",
       "1                    77.813237  25-03-2022    19:45:00          19:50:00   \n",
       "2                    77.688400  19-03-2022    08:30:00          08:45:00   \n",
       "3                    77.026494  05-04-2022    18:00:00          18:10:00   \n",
       "4                    80.289982  26-03-2022    13:30:00          13:45:00   \n",
       "\n",
       "       Weatherconditions Road_traffic_density  Vehicle_condition  \\\n",
       "0       conditions Sunny                High                   2   \n",
       "1      conditions Stormy                 Jam                   2   \n",
       "2  conditions Sandstorms                 Low                   0   \n",
       "3       conditions Sunny              Medium                   0   \n",
       "4      conditions Cloudy                High                   1   \n",
       "\n",
       "  Type_of_order Type_of_vehicle multiple_deliveries Festival            City  \\\n",
       "0        Snack      motorcycle                    0      No           Urban    \n",
       "1        Snack         scooter                    1      No   Metropolitian    \n",
       "2       Drinks      motorcycle                    1      No           Urban    \n",
       "3       Buffet      motorcycle                    1      No   Metropolitian    \n",
       "4        Snack         scooter                    1      No   Metropolitian    \n",
       "\n",
       "  Time_taken(min)  \n",
       "0        (min) 24  \n",
       "1        (min) 33  \n",
       "2        (min) 26  \n",
       "3        (min) 21  \n",
       "4        (min) 30  "
      ]
     },
     "execution_count": 2,
     "metadata": {},
     "output_type": "execute_result"
    }
   ],
   "source": [
    "# IMPORTANDO BASE DE DADOS DE ARQUIVO CSV\n",
    "df = pd.read_csv('train.csv')\n",
    "df.head(5)"
   ]
  },
  {
   "cell_type": "code",
   "execution_count": 3,
   "id": "d3fa9ba9",
   "metadata": {},
   "outputs": [
    {
     "data": {
      "text/html": [
       "<div>\n",
       "<style scoped>\n",
       "    .dataframe tbody tr th:only-of-type {\n",
       "        vertical-align: middle;\n",
       "    }\n",
       "\n",
       "    .dataframe tbody tr th {\n",
       "        vertical-align: top;\n",
       "    }\n",
       "\n",
       "    .dataframe thead th {\n",
       "        text-align: right;\n",
       "    }\n",
       "</style>\n",
       "<table border=\"1\" class=\"dataframe\">\n",
       "  <thead>\n",
       "    <tr style=\"text-align: right;\">\n",
       "      <th></th>\n",
       "      <th>ID</th>\n",
       "      <th>ID_Entregador</th>\n",
       "      <th>Idade_Entregador</th>\n",
       "      <th>Avaliacoes_Entregador</th>\n",
       "      <th>Latitude_Restaurante</th>\n",
       "      <th>Longitude_Restaurante</th>\n",
       "      <th>Latitude_Entrega</th>\n",
       "      <th>Longitude_Entrega</th>\n",
       "      <th>Data_Pedido</th>\n",
       "      <th>Hora_Pedido</th>\n",
       "      <th>Hora_Entrega</th>\n",
       "      <th>Condicoes_Climaticas</th>\n",
       "      <th>Densidade_Trafego</th>\n",
       "      <th>Estado_Veiculo</th>\n",
       "      <th>Tipo_Pedido</th>\n",
       "      <th>Tipo_Veiculo</th>\n",
       "      <th>Entregas_Multiplos</th>\n",
       "      <th>Festival</th>\n",
       "      <th>Cidade</th>\n",
       "      <th>Tempo_Levado(min)</th>\n",
       "    </tr>\n",
       "  </thead>\n",
       "  <tbody>\n",
       "    <tr>\n",
       "      <th>0</th>\n",
       "      <td>0x4607</td>\n",
       "      <td>INDORES13DEL02</td>\n",
       "      <td>37</td>\n",
       "      <td>4.9</td>\n",
       "      <td>22.745049</td>\n",
       "      <td>75.892471</td>\n",
       "      <td>22.765049</td>\n",
       "      <td>75.912471</td>\n",
       "      <td>19-03-2022</td>\n",
       "      <td>11:30:00</td>\n",
       "      <td>11:45:00</td>\n",
       "      <td>conditions Sunny</td>\n",
       "      <td>High</td>\n",
       "      <td>2</td>\n",
       "      <td>Snack</td>\n",
       "      <td>motorcycle</td>\n",
       "      <td>0</td>\n",
       "      <td>No</td>\n",
       "      <td>Urban</td>\n",
       "      <td>(min) 24</td>\n",
       "    </tr>\n",
       "    <tr>\n",
       "      <th>1</th>\n",
       "      <td>0xb379</td>\n",
       "      <td>BANGRES18DEL02</td>\n",
       "      <td>34</td>\n",
       "      <td>4.5</td>\n",
       "      <td>12.913041</td>\n",
       "      <td>77.683237</td>\n",
       "      <td>13.043041</td>\n",
       "      <td>77.813237</td>\n",
       "      <td>25-03-2022</td>\n",
       "      <td>19:45:00</td>\n",
       "      <td>19:50:00</td>\n",
       "      <td>conditions Stormy</td>\n",
       "      <td>Jam</td>\n",
       "      <td>2</td>\n",
       "      <td>Snack</td>\n",
       "      <td>scooter</td>\n",
       "      <td>1</td>\n",
       "      <td>No</td>\n",
       "      <td>Metropolitian</td>\n",
       "      <td>(min) 33</td>\n",
       "    </tr>\n",
       "    <tr>\n",
       "      <th>2</th>\n",
       "      <td>0x5d6d</td>\n",
       "      <td>BANGRES19DEL01</td>\n",
       "      <td>23</td>\n",
       "      <td>4.4</td>\n",
       "      <td>12.914264</td>\n",
       "      <td>77.678400</td>\n",
       "      <td>12.924264</td>\n",
       "      <td>77.688400</td>\n",
       "      <td>19-03-2022</td>\n",
       "      <td>08:30:00</td>\n",
       "      <td>08:45:00</td>\n",
       "      <td>conditions Sandstorms</td>\n",
       "      <td>Low</td>\n",
       "      <td>0</td>\n",
       "      <td>Drinks</td>\n",
       "      <td>motorcycle</td>\n",
       "      <td>1</td>\n",
       "      <td>No</td>\n",
       "      <td>Urban</td>\n",
       "      <td>(min) 26</td>\n",
       "    </tr>\n",
       "    <tr>\n",
       "      <th>3</th>\n",
       "      <td>0x7a6a</td>\n",
       "      <td>COIMBRES13DEL02</td>\n",
       "      <td>38</td>\n",
       "      <td>4.7</td>\n",
       "      <td>11.003669</td>\n",
       "      <td>76.976494</td>\n",
       "      <td>11.053669</td>\n",
       "      <td>77.026494</td>\n",
       "      <td>05-04-2022</td>\n",
       "      <td>18:00:00</td>\n",
       "      <td>18:10:00</td>\n",
       "      <td>conditions Sunny</td>\n",
       "      <td>Medium</td>\n",
       "      <td>0</td>\n",
       "      <td>Buffet</td>\n",
       "      <td>motorcycle</td>\n",
       "      <td>1</td>\n",
       "      <td>No</td>\n",
       "      <td>Metropolitian</td>\n",
       "      <td>(min) 21</td>\n",
       "    </tr>\n",
       "    <tr>\n",
       "      <th>4</th>\n",
       "      <td>0x70a2</td>\n",
       "      <td>CHENRES12DEL01</td>\n",
       "      <td>32</td>\n",
       "      <td>4.6</td>\n",
       "      <td>12.972793</td>\n",
       "      <td>80.249982</td>\n",
       "      <td>13.012793</td>\n",
       "      <td>80.289982</td>\n",
       "      <td>26-03-2022</td>\n",
       "      <td>13:30:00</td>\n",
       "      <td>13:45:00</td>\n",
       "      <td>conditions Cloudy</td>\n",
       "      <td>High</td>\n",
       "      <td>1</td>\n",
       "      <td>Snack</td>\n",
       "      <td>scooter</td>\n",
       "      <td>1</td>\n",
       "      <td>No</td>\n",
       "      <td>Metropolitian</td>\n",
       "      <td>(min) 30</td>\n",
       "    </tr>\n",
       "  </tbody>\n",
       "</table>\n",
       "</div>"
      ],
      "text/plain": [
       "        ID     ID_Entregador Idade_Entregador Avaliacoes_Entregador  \\\n",
       "0  0x4607    INDORES13DEL02                37                   4.9   \n",
       "1  0xb379    BANGRES18DEL02                34                   4.5   \n",
       "2  0x5d6d    BANGRES19DEL01                23                   4.4   \n",
       "3  0x7a6a   COIMBRES13DEL02                38                   4.7   \n",
       "4  0x70a2    CHENRES12DEL01                32                   4.6   \n",
       "\n",
       "   Latitude_Restaurante  Longitude_Restaurante  Latitude_Entrega  \\\n",
       "0             22.745049              75.892471         22.765049   \n",
       "1             12.913041              77.683237         13.043041   \n",
       "2             12.914264              77.678400         12.924264   \n",
       "3             11.003669              76.976494         11.053669   \n",
       "4             12.972793              80.249982         13.012793   \n",
       "\n",
       "   Longitude_Entrega Data_Pedido Hora_Pedido Hora_Entrega  \\\n",
       "0          75.912471  19-03-2022    11:30:00     11:45:00   \n",
       "1          77.813237  25-03-2022    19:45:00     19:50:00   \n",
       "2          77.688400  19-03-2022    08:30:00     08:45:00   \n",
       "3          77.026494  05-04-2022    18:00:00     18:10:00   \n",
       "4          80.289982  26-03-2022    13:30:00     13:45:00   \n",
       "\n",
       "    Condicoes_Climaticas Densidade_Trafego  Estado_Veiculo Tipo_Pedido  \\\n",
       "0       conditions Sunny             High                2      Snack    \n",
       "1      conditions Stormy              Jam                2      Snack    \n",
       "2  conditions Sandstorms              Low                0     Drinks    \n",
       "3       conditions Sunny           Medium                0     Buffet    \n",
       "4      conditions Cloudy             High                1      Snack    \n",
       "\n",
       "  Tipo_Veiculo Entregas_Multiplos Festival          Cidade Tempo_Levado(min)  \n",
       "0  motorcycle                   0      No           Urban           (min) 24  \n",
       "1     scooter                   1      No   Metropolitian           (min) 33  \n",
       "2  motorcycle                   1      No           Urban           (min) 26  \n",
       "3  motorcycle                   1      No   Metropolitian           (min) 21  \n",
       "4     scooter                   1      No   Metropolitian           (min) 30  "
      ]
     },
     "execution_count": 3,
     "metadata": {},
     "output_type": "execute_result"
    }
   ],
   "source": [
    "# TROCANDO NOMES DAS COLUNAS\n",
    "colunas = {'ID': 'ID',\n",
    "                     'Delivery_person_ID': 'ID_Entregador',\n",
    "                     'Delivery_person_Age': 'Idade_Entregador',\n",
    "                     'Delivery_person_Ratings': 'Avaliacoes_Entregador',\n",
    "                     'Restaurant_latitude': 'Latitude_Restaurante',\n",
    "                     'Restaurant_longitude': 'Longitude_Restaurante',\n",
    "                     'Delivery_location_latitude': 'Latitude_Entrega',\n",
    "                     'Delivery_location_longitude': 'Longitude_Entrega',\n",
    "                     'Order_Date': 'Data_Pedido',\n",
    "                     'Time_Orderd': 'Hora_Pedido',\n",
    "                     'Time_Order_picked': 'Hora_Entrega',\n",
    "                     'Weatherconditions': 'Condicoes_Climaticas',\n",
    "                     'Road_traffic_density': 'Densidade_Trafego',\n",
    "                     'Vehicle_condition': 'Estado_Veiculo',\n",
    "                     'Type_of_order': 'Tipo_Pedido',\n",
    "                     'Type_of_vehicle': 'Tipo_Veiculo',\n",
    "                     'multiple_deliveries': 'Entregas_Multiplos',\n",
    "                     'Festival': 'Festival',\n",
    "                     'City': 'Cidade',\n",
    "                     'Time_taken(min)': 'Tempo_Levado(min)'}\n",
    "df.rename(columns=colunas, inplace=True)\n",
    "df.head(5)"
   ]
  },
  {
   "cell_type": "code",
   "execution_count": 4,
   "id": "66d1454d",
   "metadata": {},
   "outputs": [],
   "source": [
    "# CRIANDO CÓPIA DO DATAFRAME PRINCIPAL PARA ALTERAÇÕES\n",
    "df1 = df.copy()"
   ]
  },
  {
   "cell_type": "code",
   "execution_count": 5,
   "id": "a428e51c",
   "metadata": {},
   "outputs": [
    {
     "data": {
      "text/html": [
       "<div>\n",
       "<style scoped>\n",
       "    .dataframe tbody tr th:only-of-type {\n",
       "        vertical-align: middle;\n",
       "    }\n",
       "\n",
       "    .dataframe tbody tr th {\n",
       "        vertical-align: top;\n",
       "    }\n",
       "\n",
       "    .dataframe thead th {\n",
       "        text-align: right;\n",
       "    }\n",
       "</style>\n",
       "<table border=\"1\" class=\"dataframe\">\n",
       "  <thead>\n",
       "    <tr style=\"text-align: right;\">\n",
       "      <th></th>\n",
       "      <th>Latitude_Restaurante</th>\n",
       "      <th>Longitude_Restaurante</th>\n",
       "      <th>Latitude_Entrega</th>\n",
       "      <th>Longitude_Entrega</th>\n",
       "      <th>Estado_Veiculo</th>\n",
       "    </tr>\n",
       "  </thead>\n",
       "  <tbody>\n",
       "    <tr>\n",
       "      <th>count</th>\n",
       "      <td>45593.000000</td>\n",
       "      <td>45593.000000</td>\n",
       "      <td>45593.000000</td>\n",
       "      <td>45593.000000</td>\n",
       "      <td>45593.000000</td>\n",
       "    </tr>\n",
       "    <tr>\n",
       "      <th>mean</th>\n",
       "      <td>17.017729</td>\n",
       "      <td>70.231332</td>\n",
       "      <td>17.465186</td>\n",
       "      <td>70.845702</td>\n",
       "      <td>1.023359</td>\n",
       "    </tr>\n",
       "    <tr>\n",
       "      <th>std</th>\n",
       "      <td>8.185109</td>\n",
       "      <td>22.883647</td>\n",
       "      <td>7.335122</td>\n",
       "      <td>21.118812</td>\n",
       "      <td>0.839065</td>\n",
       "    </tr>\n",
       "    <tr>\n",
       "      <th>min</th>\n",
       "      <td>-30.905562</td>\n",
       "      <td>-88.366217</td>\n",
       "      <td>0.010000</td>\n",
       "      <td>0.010000</td>\n",
       "      <td>0.000000</td>\n",
       "    </tr>\n",
       "    <tr>\n",
       "      <th>25%</th>\n",
       "      <td>12.933284</td>\n",
       "      <td>73.170000</td>\n",
       "      <td>12.988453</td>\n",
       "      <td>73.280000</td>\n",
       "      <td>0.000000</td>\n",
       "    </tr>\n",
       "    <tr>\n",
       "      <th>50%</th>\n",
       "      <td>18.546947</td>\n",
       "      <td>75.898497</td>\n",
       "      <td>18.633934</td>\n",
       "      <td>76.002574</td>\n",
       "      <td>1.000000</td>\n",
       "    </tr>\n",
       "    <tr>\n",
       "      <th>75%</th>\n",
       "      <td>22.728163</td>\n",
       "      <td>78.044095</td>\n",
       "      <td>22.785049</td>\n",
       "      <td>78.107044</td>\n",
       "      <td>2.000000</td>\n",
       "    </tr>\n",
       "    <tr>\n",
       "      <th>max</th>\n",
       "      <td>30.914057</td>\n",
       "      <td>88.433452</td>\n",
       "      <td>31.054057</td>\n",
       "      <td>88.563452</td>\n",
       "      <td>3.000000</td>\n",
       "    </tr>\n",
       "  </tbody>\n",
       "</table>\n",
       "</div>"
      ],
      "text/plain": [
       "       Latitude_Restaurante  Longitude_Restaurante  Latitude_Entrega  \\\n",
       "count          45593.000000           45593.000000      45593.000000   \n",
       "mean              17.017729              70.231332         17.465186   \n",
       "std                8.185109              22.883647          7.335122   \n",
       "min              -30.905562             -88.366217          0.010000   \n",
       "25%               12.933284              73.170000         12.988453   \n",
       "50%               18.546947              75.898497         18.633934   \n",
       "75%               22.728163              78.044095         22.785049   \n",
       "max               30.914057              88.433452         31.054057   \n",
       "\n",
       "       Longitude_Entrega  Estado_Veiculo  \n",
       "count       45593.000000    45593.000000  \n",
       "mean           70.845702        1.023359  \n",
       "std            21.118812        0.839065  \n",
       "min             0.010000        0.000000  \n",
       "25%            73.280000        0.000000  \n",
       "50%            76.002574        1.000000  \n",
       "75%            78.107044        2.000000  \n",
       "max            88.563452        3.000000  "
      ]
     },
     "execution_count": 5,
     "metadata": {},
     "output_type": "execute_result"
    }
   ],
   "source": [
    "# DESCRIÇÃO GERAL DO DATAFRAME\n",
    "df1.describe()"
   ]
  },
  {
   "cell_type": "code",
   "execution_count": 6,
   "id": "bc656fcc",
   "metadata": {},
   "outputs": [
    {
     "name": "stdout",
     "output_type": "stream",
     "text": [
      "<class 'pandas.core.frame.DataFrame'>\n",
      "RangeIndex: 45593 entries, 0 to 45592\n",
      "Data columns (total 20 columns):\n",
      " #   Column                 Non-Null Count  Dtype  \n",
      "---  ------                 --------------  -----  \n",
      " 0   ID                     45593 non-null  object \n",
      " 1   ID_Entregador          45593 non-null  object \n",
      " 2   Idade_Entregador       45593 non-null  object \n",
      " 3   Avaliacoes_Entregador  45593 non-null  object \n",
      " 4   Latitude_Restaurante   45593 non-null  float64\n",
      " 5   Longitude_Restaurante  45593 non-null  float64\n",
      " 6   Latitude_Entrega       45593 non-null  float64\n",
      " 7   Longitude_Entrega      45593 non-null  float64\n",
      " 8   Data_Pedido            45593 non-null  object \n",
      " 9   Hora_Pedido            45593 non-null  object \n",
      " 10  Hora_Entrega           45593 non-null  object \n",
      " 11  Condicoes_Climaticas   45593 non-null  object \n",
      " 12  Densidade_Trafego      45593 non-null  object \n",
      " 13  Estado_Veiculo         45593 non-null  int64  \n",
      " 14  Tipo_Pedido            45593 non-null  object \n",
      " 15  Tipo_Veiculo           45593 non-null  object \n",
      " 16  Entregas_Multiplos     45593 non-null  object \n",
      " 17  Festival               45593 non-null  object \n",
      " 18  Cidade                 45593 non-null  object \n",
      " 19  Tempo_Levado(min)      45593 non-null  object \n",
      "dtypes: float64(4), int64(1), object(15)\n",
      "memory usage: 7.0+ MB\n"
     ]
    }
   ],
   "source": [
    "# AVALIAÇÃO TÉCNICA DOS DADOS DO DATAFRAME\n",
    "df1.info()"
   ]
  },
  {
   "cell_type": "code",
   "execution_count": 7,
   "id": "6d5a656d",
   "metadata": {},
   "outputs": [
    {
     "data": {
      "text/plain": [
       "ID                               object\n",
       "ID_Entregador                    object\n",
       "Idade_Entregador                  int32\n",
       "Avaliacoes_Entregador           float64\n",
       "Latitude_Restaurante            float64\n",
       "Longitude_Restaurante           float64\n",
       "Latitude_Entrega                float64\n",
       "Longitude_Entrega               float64\n",
       "Data_Pedido              datetime64[ns]\n",
       "Hora_Pedido                      object\n",
       "Hora_Entrega                     object\n",
       "Condicoes_Climaticas             object\n",
       "Densidade_Trafego                object\n",
       "Estado_Veiculo                    int64\n",
       "Tipo_Pedido                      object\n",
       "Tipo_Veiculo                     object\n",
       "Entregas_Multiplos                int32\n",
       "Festival                         object\n",
       "Cidade                           object\n",
       "Tempo_Levado(min)                object\n",
       "dtype: object"
      ]
     },
     "execution_count": 7,
     "metadata": {},
     "output_type": "execute_result"
    }
   ],
   "source": [
    "# REALIZANDO CONVERSÃO NECESSÁRIA DE TIPOS PARA IDADE, AVALIAÇÕES E MULTIPLAS ENTREGAS\n",
    "# Removendo registros com NaN \n",
    "linhas_validas = (df1['Idade_Entregador'] != 'NaN ') & (df1['Avaliacoes_Entregador'] != 'NaN ') & (df1['Entregas_Multiplos'] != 'NaN ')\n",
    "df1 = df1.loc[linhas_validas, :].copy()\n",
    "\n",
    "# Conversão com .astype()\n",
    "df1['Idade_Entregador'] = df1['Idade_Entregador'].astype(int)\n",
    "df1['Avaliacoes_Entregador'] = df1['Avaliacoes_Entregador'].astype(float)\n",
    "df1['Entregas_Multiplos'] = df1['Entregas_Multiplos'].astype(int)\n",
    "\n",
    "# CONVERTENDO COLUNA DE DATA\n",
    "df1['Data_Pedido'] = pd.to_datetime(df1['Data_Pedido'], format='%d-%m-%Y')\n",
    "\n",
    "# RESETANDO ÍNDICES PARA RECONFIGURAÇÃO DO DF\n",
    "df1 = df1.reset_index(drop=True)\n",
    "\n",
    "df1.dtypes"
   ]
  },
  {
   "cell_type": "code",
   "execution_count": 8,
   "id": "b39b30e8",
   "metadata": {},
   "outputs": [],
   "source": [
    "# LIMPEZA DE ESPAÇOS EM BRANCO JUNTO AOS DADOS DOS REGISTROS USANDO .strip()\n",
    "# ID (0), ID_Entregador(1), Densidade_Trafego(12), Tipo_Pedido(14) \n",
    "# Tipo_Veiculo (15), Festival(17), Cidade(18) \n",
    "\n",
    "# Índices das colunas que você deseja aplicar strip\n",
    "indices_colunas = [0, 1, 12, 14, 15, 17, 18]\n",
    "\n",
    "# Aplicar strip a cada elemento nas colunas selecionadas\n",
    "for coluna in indices_colunas:\n",
    "    df1.iloc[:, coluna] = df1.iloc[:, coluna].astype(str).str.strip()"
   ]
  },
  {
   "cell_type": "code",
   "execution_count": 9,
   "id": "0eae0d5e",
   "metadata": {},
   "outputs": [
    {
     "data": {
      "text/plain": [
       "ID                               object\n",
       "ID_Entregador                    object\n",
       "Idade_Entregador                  int32\n",
       "Avaliacoes_Entregador           float64\n",
       "Latitude_Restaurante            float64\n",
       "Longitude_Restaurante           float64\n",
       "Latitude_Entrega                float64\n",
       "Longitude_Entrega               float64\n",
       "Data_Pedido              datetime64[ns]\n",
       "Hora_Pedido                      object\n",
       "Hora_Entrega                     object\n",
       "Condicoes_Climaticas             object\n",
       "Densidade_Trafego                object\n",
       "Estado_Veiculo                    int64\n",
       "Tipo_Pedido                      object\n",
       "Tipo_Veiculo                     object\n",
       "Entregas_Multiplos                int32\n",
       "Festival                         object\n",
       "Cidade                           object\n",
       "Tempo_Levado(min)                object\n",
       "dtype: object"
      ]
     },
     "execution_count": 9,
     "metadata": {},
     "output_type": "execute_result"
    }
   ],
   "source": [
    "df1.dtypes"
   ]
  },
  {
   "cell_type": "markdown",
   "id": "1b2353e9",
   "metadata": {},
   "source": [
    "# 1. Qual o número total de entregas na base de dados?"
   ]
  },
  {
   "cell_type": "code",
   "execution_count": 10,
   "id": "508e79ab",
   "metadata": {
    "scrolled": true
   },
   "outputs": [
    {
     "data": {
      "text/plain": [
       "42752"
      ]
     },
     "execution_count": 10,
     "metadata": {},
     "output_type": "execute_result"
    }
   ],
   "source": [
    "# TOTAL DE ENTREGAS COMO TAMANHO TOTAL DE IDS (CODIGO DE ENTREGA)\n",
    "df1['ID'].size"
   ]
  },
  {
   "cell_type": "markdown",
   "id": "65e60941",
   "metadata": {},
   "source": [
    "# 2. Qual o número total de entregadores cadastrados na base de dados?"
   ]
  },
  {
   "cell_type": "code",
   "execution_count": 11,
   "id": "cfe90bf6",
   "metadata": {},
   "outputs": [
    {
     "data": {
      "text/plain": [
       "1320"
      ]
     },
     "execution_count": 11,
     "metadata": {},
     "output_type": "execute_result"
    }
   ],
   "source": [
    "# CONTAGEM DE ENTREGADORES ÚNICOS COM .nunique()\n",
    "df1['ID_Entregador'].nunique()"
   ]
  },
  {
   "cell_type": "markdown",
   "id": "041952be",
   "metadata": {},
   "source": [
    "# 3. Qual a idade do entregador mais velho? E do mais novo?"
   ]
  },
  {
   "cell_type": "code",
   "execution_count": 12,
   "id": "a1df101a",
   "metadata": {},
   "outputs": [
    {
     "name": "stdout",
     "output_type": "stream",
     "text": [
      "Idade do mais velho: 50 anos\n",
      "Idade do mais novo: 15 anos\n"
     ]
    }
   ],
   "source": [
    "# UTILIZANDO MÉTODOS .max() E .min()\n",
    "idade_max = df1['Idade_Entregador'].max()\n",
    "idade_min = df1['Idade_Entregador'].min()\n",
    "\n",
    "print(f\"Idade do mais velho: {idade_max} anos\\nIdade do mais novo: {idade_min} anos\")"
   ]
  },
  {
   "cell_type": "markdown",
   "id": "f17b7d45",
   "metadata": {},
   "source": [
    "# 4. Qual o ID do entregador com a maior idade? E o ID do entregador com a menor idade?"
   ]
  },
  {
   "cell_type": "code",
   "execution_count": 13,
   "id": "6443e8e6",
   "metadata": {},
   "outputs": [],
   "source": [
    "mais_velho = df1['Idade_Entregador'] == idade_max\n",
    "mais_novo = df1['Idade_Entregador'] == idade_min\n",
    "\n",
    "id_mais_velho = df1.loc[mais_velho, 'ID_Entregador'].copy()\n",
    "id_mais_novo = df1.loc[mais_novo, 'ID_Entregador'].copy()\n",
    "# AMBOS POSSUEM MAIS DE UM COM A IDADE MÁXIMA E MÍNIMA\n",
    "# NÃO SENDO POSSÍVEL DETERMINAR APENAS UM"
   ]
  },
  {
   "cell_type": "markdown",
   "id": "4a06e9e7",
   "metadata": {},
   "source": [
    "# 5. Quais os nomes das condições climáticas presentes na base de dados?"
   ]
  },
  {
   "cell_type": "code",
   "execution_count": 14,
   "id": "2c1eb239",
   "metadata": {},
   "outputs": [
    {
     "name": "stdout",
     "output_type": "stream",
     "text": [
      "Condições Climáticas:\n",
      " Sunny\n",
      " Stormy\n",
      " Sandstorms\n",
      " Cloudy\n",
      " Fog\n",
      " Windy\n"
     ]
    }
   ],
   "source": [
    "# BUSCANDO OS VALORES ÚNICOS DA COLUNA DE CONDIÇÕES CLIMÁTICAS\n",
    "condicoes = df1['Condicoes_Climaticas'].unique()\n",
    "print(\"Condições Climáticas:\")\n",
    "\n",
    "for condicao in condicoes:\n",
    "    if condicao != 'conditions NaN':\n",
    "        print(condicao[10:])"
   ]
  },
  {
   "cell_type": "markdown",
   "id": "18354f48",
   "metadata": {},
   "source": [
    "# 6. Quantas entregas foram realizadas sobre condição climática de tempestade de areia?"
   ]
  },
  {
   "cell_type": "code",
   "execution_count": 15,
   "id": "7734288b",
   "metadata": {},
   "outputs": [
    {
     "name": "stdout",
     "output_type": "stream",
     "text": [
      "Quantidade de entregas sobre condição climática de tempestade de areia:\n",
      "7077\n"
     ]
    }
   ],
   "source": [
    "tempestade_areia = df1['Condicoes_Climaticas'] == 'conditions Sandstorms'\n",
    "\n",
    "# TODOS OS REGISTROS ONDE A ENTREGA FOI FEITA SOBRE TAL CONDIÇÃO\n",
    "entregas_ta = df1.loc[tempestade_areia, :].copy()\n",
    "\n",
    "print(f\"Quantidade de entregas sobre condição climática de tempestade de areia:\\n{entregas_ta.shape[0]}\")"
   ]
  },
  {
   "cell_type": "markdown",
   "id": "35263d05",
   "metadata": {},
   "source": [
    "# 7. Quais eram as condicões climáticas da data mais recente de entrega?"
   ]
  },
  {
   "cell_type": "code",
   "execution_count": 16,
   "id": "d139cea1",
   "metadata": {},
   "outputs": [
    {
     "name": "stdout",
     "output_type": "stream",
     "text": [
      "Condições predominantes das últimas entregas:\n",
      " Cloudy\n",
      " Windy\n",
      " Sandstorms\n",
      " Stormy\n"
     ]
    }
   ],
   "source": [
    "# SELECIONANDO DATA MAIS RECENTE\n",
    "data_recente = df1['Data_Pedido'].max()\n",
    "\n",
    "# SELECIONANDO ENTREGAS DA DATA MAIS RECENTE\n",
    "entregas_dr = df1.loc[df1['Data_Pedido'] == data_recente, ['Condicoes_Climaticas', 'Hora_Entrega', 'Data_Pedido']].copy()\n",
    "\n",
    "# SELECIONANDO CONDIÇÃO CLIMÁTICA COM A HORA MAIS RECENTE\n",
    "entregas_dr = entregas_dr.loc[entregas_dr['Hora_Entrega'] == entregas_dr['Hora_Entrega'].max(),:]\n",
    "condicoes_dr = entregas_dr['Condicoes_Climaticas'].unique()\n",
    "\n",
    "# CONDIÇÕES PRESENTES NAS ENTREGAS MAIS RECENTES REGISTRADAS\n",
    "print(\"Condições predominantes das últimas entregas:\")\n",
    "for condicao in condicoes_dr:\n",
    "    print(condicao[10:])\n"
   ]
  },
  {
   "cell_type": "markdown",
   "id": "88636919",
   "metadata": {},
   "source": [
    "# 8. Quantos tipos de densidade de trânsito existem na base de dados? Quais os nomes delas?"
   ]
  },
  {
   "cell_type": "code",
   "execution_count": 17,
   "id": "a7853e36",
   "metadata": {},
   "outputs": [
    {
     "name": "stdout",
     "output_type": "stream",
     "text": [
      "QUANTIDADE DE TIPOS EXISTENTES PARA DENSIDADE DE TRÂNSITO: 4\n",
      "High\n",
      "Jam\n",
      "Low\n",
      "Medium\n"
     ]
    }
   ],
   "source": [
    "# VALORES ÚNICOS PRESENTES NOS REGISTROS DAS COLUNAS DE DENSIDADE DE TRÂNSITO:\n",
    "tipos_densidade = df1['Densidade_Trafego'].unique()\n",
    "\n",
    "# REMOVENDO 'NaN'\n",
    "tipos_densidade = tipos_densidade.tolist()\n",
    "tipos_densidade.remove('NaN')\n",
    "\n",
    "print(f\"QUANTIDADE DE TIPOS EXISTENTES PARA DENSIDADE DE TRÂNSITO: {len(tipos_densidade)}\")\n",
    "for tipo in tipos_densidade:\n",
    "    print(tipo)"
   ]
  },
  {
   "cell_type": "markdown",
   "id": "ddb7a8ff",
   "metadata": {},
   "source": [
    "# 9. Quantas entregas foram feitas em cada condição climática?"
   ]
  },
  {
   "cell_type": "code",
   "execution_count": 18,
   "id": "ce82db8c",
   "metadata": {},
   "outputs": [
    {
     "data": {
      "text/plain": [
       "Condicoes_Climaticas\n",
       "conditions Fog           7283\n",
       "conditions Stormy        7218\n",
       "conditions Cloudy        7124\n",
       "conditions Sandstorms    7077\n",
       "conditions Windy         7066\n",
       "conditions Sunny         6893\n",
       "conditions NaN             91\n",
       "Name: count, dtype: int64"
      ]
     },
     "execution_count": 18,
     "metadata": {},
     "output_type": "execute_result"
    }
   ],
   "source": [
    "df1['Condicoes_Climaticas'].value_counts()"
   ]
  },
  {
   "cell_type": "markdown",
   "id": "bc53ae17",
   "metadata": {},
   "source": [
    "# 10. Quantos entregadores únicos fizeram entregas em cada condição climática?"
   ]
  },
  {
   "cell_type": "code",
   "execution_count": 19,
   "id": "af64ae71",
   "metadata": {},
   "outputs": [
    {
     "name": "stdout",
     "output_type": "stream",
     "text": [
      "conditions Sunny 1230\n",
      "conditions Stormy 1233\n",
      "conditions Sandstorms 1239\n",
      "conditions Cloudy 1244\n",
      "conditions Fog 1250\n",
      "conditions Windy 1230\n",
      "conditions NaN 87\n"
     ]
    }
   ],
   "source": [
    "# SEPARANDO CADA CONDIÇÃO CLIMÁTICA\n",
    "condicoes = list(df1['Condicoes_Climaticas'].unique())\n",
    "\n",
    "# PERCORRENDO A LISTA DE CONDIÇÕES CLIMÁTICAS\n",
    "for condicao in condicoes:\n",
    "    qtd_entregadores = len(df1.loc[df1['Condicoes_Climaticas'] == condicao, 'ID_Entregador'].unique())\n",
    "    print(condicao, qtd_entregadores)\n",
    "    "
   ]
  },
  {
   "cell_type": "markdown",
   "id": "54ce5b15",
   "metadata": {},
   "source": [
    "# 11. Quantas entregas foram feitas em cada tipo de densidade de trânsito?"
   ]
  },
  {
   "cell_type": "code",
   "execution_count": 20,
   "id": "fb31be07",
   "metadata": {},
   "outputs": [
    {
     "data": {
      "text/plain": [
       "Densidade_Trafego\n",
       "Low       14583\n",
       "Jam       13465\n",
       "Medium    10403\n",
       "High       4210\n",
       "NaN          91\n",
       "Name: count, dtype: int64"
      ]
     },
     "execution_count": 20,
     "metadata": {},
     "output_type": "execute_result"
    }
   ],
   "source": [
    "df1['Densidade_Trafego'].value_counts()"
   ]
  },
  {
   "cell_type": "markdown",
   "id": "cb4a762d",
   "metadata": {},
   "source": [
    "# 12. Quantos entregadores únicos fizeram entregas em cada tipo de densidade de trânsito?"
   ]
  },
  {
   "cell_type": "code",
   "execution_count": 21,
   "id": "33a32eeb",
   "metadata": {},
   "outputs": [
    {
     "name": "stdout",
     "output_type": "stream",
     "text": [
      "High 787\n",
      "Jam 1306\n",
      "Low 1310\n",
      "Medium 1287\n",
      "NaN 87\n"
     ]
    }
   ],
   "source": [
    "# SEPARANDO TIPOS DE DENSIDADE DE TRÂNSITO\n",
    "tipos = list(df1['Densidade_Trafego'].unique())\n",
    "\n",
    "# PERCORRENDO TIPOS EM BUSCA DE REGISTROS DE ENTREGADORES UNICOS DE CADA \n",
    "for tipo in tipos:\n",
    "    qtd_entregadores = len(df1.loc[df1['Densidade_Trafego'] == tipo, 'ID_Entregador'].unique())\n",
    "    print(tipo, qtd_entregadores)"
   ]
  },
  {
   "cell_type": "markdown",
   "id": "95c293bf",
   "metadata": {},
   "source": [
    "# 13. Quantas cidades únicas existem na base? Quais são os seus nomes?"
   ]
  },
  {
   "cell_type": "code",
   "execution_count": 22,
   "id": "e4fd790b",
   "metadata": {},
   "outputs": [
    {
     "name": "stdout",
     "output_type": "stream",
     "text": [
      "Existem 4 únicas, sendo elas:\n",
      "Urban\n",
      "Metropolitian\n",
      "Semi-Urban\n",
      "NaN\n"
     ]
    }
   ],
   "source": [
    "qtd = df1['Cidade'].nunique()\n",
    "cidades = df1['Cidade'].unique()\n",
    "\n",
    "print(f\"Existem {qtd} únicas, sendo elas:\")\n",
    "for cidade in cidades:\n",
    "    print(cidade)"
   ]
  },
  {
   "cell_type": "markdown",
   "id": "e7864659",
   "metadata": {},
   "source": [
    "# 14. Quantos tipos de veículos únicos existem na base?"
   ]
  },
  {
   "cell_type": "code",
   "execution_count": 23,
   "id": "c0a2c0ad",
   "metadata": {},
   "outputs": [
    {
     "name": "stdout",
     "output_type": "stream",
     "text": [
      "Existem 4 únicos, sendo eles:\n",
      "motorcycle\n",
      "scooter\n",
      "electric_scooter\n",
      "bicycle\n"
     ]
    }
   ],
   "source": [
    "qtd = df1['Tipo_Veiculo'].nunique()\n",
    "tipos = df1['Tipo_Veiculo'].unique()\n",
    "\n",
    "print(f\"Existem {qtd} únicos, sendo eles:\")\n",
    "for tipo in tipos:\n",
    "    print(tipo)"
   ]
  },
  {
   "cell_type": "markdown",
   "id": "711abb07",
   "metadata": {},
   "source": [
    "# 15. Qual o tipo de veículo que mais vez entregas com a condição de trânsito pesado? ( High )"
   ]
  },
  {
   "cell_type": "code",
   "execution_count": 24,
   "id": "d2613df5",
   "metadata": {},
   "outputs": [
    {
     "name": "stdout",
     "output_type": "stream",
     "text": [
      "Tipo de veículo: motorcycle\n",
      "Quantidade de entregas sob tais condições: 2480\n"
     ]
    }
   ],
   "source": [
    "# SEPARANDO REGISTROS QUE TEM CONDIÇÃO DE TRANSITO PESADA\n",
    "condicao = df1['Densidade_Trafego'] == 'High'\n",
    "\n",
    "# SEPARANDO TIPO DE VEÍCULO DAS CONDIÇÕES DE TRÂNSITO PESADA\n",
    "tipo_veiculo_high = df1.loc[condicao, 'Tipo_Veiculo'].copy()\n",
    "\n",
    "# Utilizando idxmax() para detectar valor que mais aparece\n",
    "print(f\"Tipo de veículo: {tipo_veiculo_high.value_counts().idxmax()}\")\n",
    "print(f\"Quantidade de entregas sob tais condições: {tipo_veiculo_high.value_counts().max()}\")"
   ]
  },
  {
   "cell_type": "markdown",
   "id": "c91d98f0",
   "metadata": {},
   "source": [
    "# 16. Qual o tipo de pedido mais feito durante condições climáticas de tempestade de areia?"
   ]
  },
  {
   "cell_type": "code",
   "execution_count": 25,
   "id": "cf8d1e8f",
   "metadata": {},
   "outputs": [
    {
     "name": "stdout",
     "output_type": "stream",
     "text": [
      "Mais pedido sob tais condições: ''Meal''. Quantidade: 1810\n"
     ]
    }
   ],
   "source": [
    "# SEPARANDO REGISTROS COM CONDIÇÕES DE TEMPESTADE DE AREIA\n",
    "condicao = df1['Condicoes_Climaticas'] == 'conditions Sandstorms'\n",
    "\n",
    "# SEPARANDO TIPO DE PEDIDO PARA TAL CONDIÇÃO\n",
    "tipo_pedido_ta = df1.loc[condicao, 'Tipo_Pedido'].copy()\n",
    "\n",
    "# Utilizando idxmax() e max() para detectar valor que mais aparece\n",
    "mais_pedido = tipo_pedido_ta.value_counts().idxmax()\n",
    "qtd = tipo_pedido_ta.value_counts().max()\n",
    "\n",
    "print(f\"Mais pedido sob tais condições: ''{mais_pedido}''. Quantidade: {qtd}\")"
   ]
  },
  {
   "cell_type": "markdown",
   "id": "75e3547c",
   "metadata": {},
   "source": [
    "# 17. Qual a cidade com o maior número de pedidos de Bebidas (Drinks) feito em Scooter?"
   ]
  },
  {
   "cell_type": "code",
   "execution_count": 26,
   "id": "5ce3b72b",
   "metadata": {},
   "outputs": [
    {
     "name": "stdout",
     "output_type": "stream",
     "text": [
      "Cidade com maior número de pedidos de bebidas em scooters: ''Metropolitian''. Quantidade: 2652\n"
     ]
    }
   ],
   "source": [
    "# SEPARANDO REGISTROS COM PEDIDOS DO TIPO DRINK EM SCOOTER\n",
    "condicao = (df1['Tipo_Veiculo'] == 'scooter') & (df1['Tipo_Pedido'] == 'Drinks')\n",
    "\n",
    "# SEPARANDO CIDADES COM TAIS CONDIÇÕES\n",
    "cidade = df1.loc[condicao, 'Cidade'].copy()\n",
    "\n",
    "# Utilizando idxmax() e max() para detectar valor que mais aparece\n",
    "mais_pedido = cidade.value_counts().idxmax()\n",
    "qtd = cidade.value_counts().max()\n",
    "\n",
    "print(f\"Cidade com maior número de pedidos de bebidas em scooters: ''{mais_pedido}''. Quantidade: {qtd}\")"
   ]
  },
  {
   "cell_type": "markdown",
   "id": "6f5935bd",
   "metadata": {},
   "source": [
    "# 18. Qual o nome da cidade com o (os) entregador mais velho? E o nome da cidade com o (os) entregadores mais novos?"
   ]
  },
  {
   "cell_type": "code",
   "execution_count": 27,
   "id": "c8d2dea1",
   "metadata": {},
   "outputs": [
    {
     "name": "stdout",
     "output_type": "stream",
     "text": [
      "Cidade com mais entregadores com 15 anos: Metropolitian\n",
      "Cidade com mais entregadores com 50 anos: Metropolitian\n"
     ]
    }
   ],
   "source": [
    "# SEPARANDO IDADES DOS ENTREGADORES MAIS NOVOS E MAIS VELHOS\n",
    "idade_mais_velho = df1['Idade_Entregador'].max()\n",
    "idade_mais_novo = df1['Idade_Entregador'].min()\n",
    "\n",
    "condicao_mv = df1['Idade_Entregador'] == idade_mais_velho\n",
    "condicao_mn = df1['Idade_Entregador'] == idade_mais_novo\n",
    "\n",
    "# SEPARANDO REGISTROS DE CIDADES COM OS ENTREGADORES MAIS NOVOS E MAIS VELHOS\n",
    "cidades_mv = df1.loc[condicao_mv, 'Cidade'].copy()\n",
    "cidades_mn = df1.loc[condicao_mn, 'Cidade'].copy()\n",
    "\n",
    "# Utilizando idxmax() e max() para detectar valor que mais aparece\n",
    "cidade_mv = cidades_mv.value_counts().idxmax()\n",
    "cidade_mn = cidades_mn.value_counts().idxmax()\n",
    "\n",
    "print(f\"Cidade com mais entregadores com {idade_mais_novo} anos: {cidade_mn}\")\n",
    "print(f\"Cidade com mais entregadores com {idade_mais_velho} anos: {cidade_mv}\")"
   ]
  },
  {
   "cell_type": "markdown",
   "id": "6ffcce99",
   "metadata": {},
   "source": [
    "# 19. Quantas entregas foram feitas durante o Festival?"
   ]
  },
  {
   "cell_type": "code",
   "execution_count": 32,
   "id": "beebf87d",
   "metadata": {},
   "outputs": [
    {
     "name": "stdout",
     "output_type": "stream",
     "text": [
      "Foram feitas 848 entregas durante o festival\n"
     ]
    }
   ],
   "source": [
    "# SEPARANDO CONDIÇÃO DE FESTIVAL\n",
    "condicao = df1['Festival'] == 'Yes'\n",
    "\n",
    "# BUSCA POR REGISTROS DE ENTREGA COM FESTIVAL E DETERMINAÇÃO DA CONTAGEM\n",
    "qtd_entregas_festival = len(df1.loc[condicao, :])\n",
    "\n",
    "print(f\"Foram feitas {qtd_entregas_festival} entregas durante o festival\")"
   ]
  },
  {
   "cell_type": "markdown",
   "id": "8e440bc2",
   "metadata": {},
   "source": [
    "# 20. Quantas cidades únicas tiveram entregas feitas durante o Festival?"
   ]
  },
  {
   "cell_type": "code",
   "execution_count": 54,
   "id": "ff3b1170",
   "metadata": {},
   "outputs": [
    {
     "name": "stdout",
     "output_type": "stream",
     "text": [
      "Quantidade de cidades únicas com entregas durante o festival: 4\n",
      "Urban\n",
      "Metropolitian\n",
      "Semi-Urban\n",
      "NaN\n"
     ]
    }
   ],
   "source": [
    "cidades_entregas_festival = df1.loc[df1['Festival'] == 'Yes', 'Cidade'].unique()\n",
    "\n",
    "print(f\"Quantidade de cidades únicas com entregas durante o festival: {len(cidades_entregas_festival)}\")\n",
    "for cidade in cidades_entregas_festival:\n",
    "    print(cidade)"
   ]
  },
  {
   "cell_type": "markdown",
   "id": "1ecd50b5",
   "metadata": {},
   "source": [
    "# 21. Quantas entregas foram feitas durante o Festival na cidade chamada Urban (\"Urban\")"
   ]
  },
  {
   "cell_type": "code",
   "execution_count": 58,
   "id": "0277dee9",
   "metadata": {},
   "outputs": [
    {
     "name": "stdout",
     "output_type": "stream",
     "text": [
      "Quantidade de entregas feitas durante festival na cidade urban: \n",
      "109\n"
     ]
    }
   ],
   "source": [
    "condicao = (df1['Festival'] == 'Yes') & (df1['Cidade'] == 'Urban')\n",
    "\n",
    "qtd_entregas = len(df1.loc[condicao, :])\n",
    "\n",
    "print(\"Quantidade de entregas feitas durante festival na cidade urban: \")\n",
    "print(qtd_entregas)"
   ]
  }
 ],
 "metadata": {
  "kernelspec": {
   "display_name": "Python 3 (ipykernel)",
   "language": "python",
   "name": "python3"
  },
  "language_info": {
   "codemirror_mode": {
    "name": "ipython",
    "version": 3
   },
   "file_extension": ".py",
   "mimetype": "text/x-python",
   "name": "python",
   "nbconvert_exporter": "python",
   "pygments_lexer": "ipython3",
   "version": "3.11.5"
  }
 },
 "nbformat": 4,
 "nbformat_minor": 5
}
